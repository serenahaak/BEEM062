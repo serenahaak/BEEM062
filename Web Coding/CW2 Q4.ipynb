{
 "cells": [
  {
   "cell_type": "code",
   "execution_count": 49,
   "metadata": {},
   "outputs": [
    {
     "name": "stdout",
     "output_type": "stream",
     "text": [
      "Requirement already satisfied: quandl in c:\\users\\serena\\anaconda3\\lib\\site-packages (3.6.1)Note: you may need to restart the kernel to use updated packages.\n",
      "\n",
      "Requirement already satisfied: inflection>=0.3.1 in c:\\users\\serena\\anaconda3\\lib\\site-packages (from quandl) (0.5.1)\n",
      "Requirement already satisfied: python-dateutil in c:\\users\\serena\\anaconda3\\lib\\site-packages (from quandl) (2.8.1)\n",
      "Requirement already satisfied: more-itertools in c:\\users\\serena\\anaconda3\\lib\\site-packages (from quandl) (8.4.0)\n",
      "Requirement already satisfied: six in c:\\users\\serena\\anaconda3\\lib\\site-packages (from quandl) (1.15.0)\n",
      "Requirement already satisfied: numpy>=1.8 in c:\\users\\serena\\anaconda3\\lib\\site-packages (from quandl) (1.18.5)\n",
      "Requirement already satisfied: pandas>=0.14 in c:\\users\\serena\\anaconda3\\lib\\site-packages (from quandl) (1.0.5)\n",
      "Requirement already satisfied: requests>=2.7.0 in c:\\users\\serena\\anaconda3\\lib\\site-packages (from quandl) (2.24.0)\n",
      "Requirement already satisfied: pytz>=2017.2 in c:\\users\\serena\\anaconda3\\lib\\site-packages (from pandas>=0.14->quandl) (2020.1)\n",
      "Requirement already satisfied: idna<3,>=2.5 in c:\\users\\serena\\anaconda3\\lib\\site-packages (from requests>=2.7.0->quandl) (2.10)\n",
      "Requirement already satisfied: chardet<4,>=3.0.2 in c:\\users\\serena\\anaconda3\\lib\\site-packages (from requests>=2.7.0->quandl) (3.0.4)\n",
      "Requirement already satisfied: certifi>=2017.4.17 in c:\\users\\serena\\anaconda3\\lib\\site-packages (from requests>=2.7.0->quandl) (2020.6.20)\n",
      "Requirement already satisfied: urllib3!=1.25.0,!=1.25.1,<1.26,>=1.21.1 in c:\\users\\serena\\anaconda3\\lib\\site-packages (from requests>=2.7.0->quandl) (1.25.9)\n"
     ]
    }
   ],
   "source": [
    "pip install quandl\n"
   ]
  },
  {
   "cell_type": "code",
   "execution_count": 50,
   "metadata": {},
   "outputs": [],
   "source": [
    "import json\n",
    "import requests\n",
    "import quandl\n",
    "import numpy as np\n",
    "import matplotlib.pyplot as plt\n",
    "import pandas as pd"
   ]
  },
  {
   "cell_type": "code",
   "execution_count": 68,
   "metadata": {},
   "outputs": [],
   "source": [
    "from sklearn.linear_model import LinearRegression\n",
    "from sklearn.preprocessing import StandardScaler\n",
    "from sklearn.model_selection import train_test_split\n",
    "from sklearn.linear_model import ElasticNet\n",
    "from sklearn.metrics import mean_squared_error\n",
    "\n"
   ]
  },
  {
   "cell_type": "code",
   "execution_count": 69,
   "metadata": {},
   "outputs": [],
   "source": [
    "quandl.ApiConfig.api_key = ''  #Add API key\n",
    "incomedata = quandl.get('FRED/MEHOINUSA672N', column_index='1')\n",
    "unemploymentdata = quandl.get('FRED/NROUST', column_index='1')\n",
    "GDPdata = quandl.get('FRED/GDP', column_index='1')\n",
    "INFdata = quandl.get('FRED/CPIAUCSL', column_index='1')\n",
    "treasurydata = quandl.get('FRED/DTB3', column_index='1')      #Importing data from quandl\n",
    "golddata = quandl.get('PERTH/LONMETALS', column_index='1')\n",
    "SPdata = quandl.get('MULTPL/SP500_DIV_YIELD_MONTH', column_index='1')\n",
    "Debtdata = quandl.get('FRED/GFDEBTN', column_index='1')\n",
    "CommercialLoansdata = quandl.get('FRED/TOTCI', column_index='1')\n",
    "silverdata = quandl.get('PERTH/LONMETALS', column_index='3')\n",
    "populationdata = quandl.get('ODA/USA_LP', column_index='1')\n",
    "Exportpercentagedata = quandl.get('ODA/USA_TXG_RPCH', column_index='1')\n",
    "\n",
    "\n",
    "\n"
   ]
  },
  {
   "cell_type": "code",
   "execution_count": 70,
   "metadata": {},
   "outputs": [],
   "source": [
    "unemploymentdata1 = np.array(unemploymentdata[140:284:4])\n",
    "GDPdata1 = np.array(GDPdata[148:290:4])\n",
    "INFdata1 = np.array(INFdata[444:870:12])\n",
    "treasurydata1 = np.array(treasurydata[7488:16500:251])       #Cut data to equal time sizes\n",
    "golddata1 = np.array(golddata[4041:13000:253])\n",
    "SPdata1 = np.array(SPdata[1356:1780:12])\n",
    "Debtdata1 = np.array(Debtdata[72:215:4])\n",
    "CommercialLoansdata1 = np.array(CommercialLoansdata[574:2450:53])\n",
    "silverdata1 = np.array(silverdata[4041:13000:253])\n",
    "populationdata1 = np.array(populationdata[3:39])\n",
    "Exportpercentagedata1= np.array(Exportpercentagedata[3:39]) \n",
    "\n"
   ]
  },
  {
   "cell_type": "code",
   "execution_count": 71,
   "metadata": {},
   "outputs": [
    {
     "data": {
      "text/plain": [
       "[<matplotlib.lines.Line2D at 0x192ea8dd0d0>]"
      ]
     },
     "execution_count": 71,
     "metadata": {},
     "output_type": "execute_result"
    },
    {
     "data": {
      "image/png": "[encoded data removed]",
      "text/plain": [
       "<Figure size 432x288 with 1 Axes>"
      ]
     },
     "metadata": {
      "needs_background": "light"
     },
     "output_type": "display_data"
    }
   ],
   "source": [
    "XX = np.array(incomedata)\n",
    "XX.shape      #Plot income data\n",
    "plt.plot(incomedata)"
   ]
  },
  {
   "cell_type": "code",
   "execution_count": 72,
   "metadata": {},
   "outputs": [],
   "source": [
    "data = np.array([XX,unemploymentdata1, GDPdata1,INFdata1, treasurydata1, golddata1, SPdata1, Debtdata1, CommercialLoansdata1, silverdata1, populationdata1, Exportpercentagedata1])\n",
    "data1=data.reshape((12, 36))\n",
    "#Create array with all time series"
   ]
  },
  {
   "cell_type": "code",
   "execution_count": 73,
   "metadata": {},
   "outputs": [],
   "source": [
    "transform = StandardScaler()\n",
    "data2 = transform.fit_transform(data1)\n",
    "#transform data"
   ]
  },
  {
   "cell_type": "code",
   "execution_count": 74,
   "metadata": {},
   "outputs": [],
   "source": [
    "y = data2[0,:]\n",
    "y = pd.DataFrame(y)\n",
    "y = y.shift(1) \n",
    "y = y.fillna(0)\n",
    "y = np.array(y)\n",
    "#creating a time lag and filling NAN with 0"
   ]
  },
  {
   "cell_type": "code",
   "execution_count": 75,
   "metadata": {},
   "outputs": [],
   "source": [
    "X = data[1:12,:]\n",
    "#Creates x variable for all time series excluding the income data"
   ]
  },
  {
   "cell_type": "code",
   "execution_count": 76,
   "metadata": {},
   "outputs": [
    {
     "data": {
      "text/plain": [
       "(36, 11)"
      ]
     },
     "execution_count": 76,
     "metadata": {},
     "output_type": "execute_result"
    }
   ],
   "source": [
    "X=X.reshape(11,36)\n",
    "X=np.transpose(X)\n",
    "y=y.reshape(1,36)\n",
    "y=np.transpose(y)\n",
    "X.shape\n",
    "#Reshaping data to fit"
   ]
  },
  {
   "cell_type": "code",
   "execution_count": 77,
   "metadata": {},
   "outputs": [
    {
     "data": {
      "text/plain": [
       "array([[-6.04732229e-02, -6.75061092e-07, -4.76237559e-03,\n",
       "         1.03453085e-02, -8.79635133e-05,  2.84379473e-02,\n",
       "         6.12870667e-09, -3.94323168e-05,  7.78465976e-03,\n",
       "         5.91130129e-03, -3.25750431e-03]])"
      ]
     },
     "execution_count": 77,
     "metadata": {},
     "output_type": "execute_result"
    }
   ],
   "source": [
    "reg = LinearRegression().fit(X, y)\n",
    "reg.score(X, y)\n",
    "\n",
    "reg.coef_\n",
    "\n",
    "#Predicting the regression coefficients for the associated variables"
   ]
  },
  {
   "cell_type": "code",
   "execution_count": 78,
   "metadata": {},
   "outputs": [],
   "source": [
    "X_train, X_test, y_train, y_test = train_test_split(X, y, test_size=0.33, random_state=42) #Splitting for testing and training data"
   ]
  },
  {
   "cell_type": "code",
   "execution_count": 79,
   "metadata": {},
   "outputs": [
    {
     "name": "stderr",
     "output_type": "stream",
     "text": [
      "C:\\Users\\Serena\\anaconda3\\lib\\site-packages\\sklearn\\linear_model\\_coordinate_descent.py:529: ConvergenceWarning: Objective did not converge. You might want to increase the number of iterations. Duality gap: 0.01760262480326543, tolerance: 8.574856236466062e-06\n",
      "  model = cd_fast.enet_coordinate_descent(\n"
     ]
    },
    {
     "data": {
      "text/plain": [
       "ElasticNet(alpha=0.1)"
      ]
     },
     "execution_count": 79,
     "metadata": {},
     "output_type": "execute_result"
    }
   ],
   "source": [
    "modelfit = ElasticNet(alpha=0.1, l1_ratio=0.5) #Default parameters\n",
    "modelfit.fit(X_train, y_train) # Running elastic net"
   ]
  },
  {
   "cell_type": "code",
   "execution_count": 80,
   "metadata": {},
   "outputs": [
    {
     "name": "stdout",
     "output_type": "stream",
     "text": [
      "[ 0.00000000e+00  1.02154702e-05 -2.16626599e-03  0.00000000e+00\n",
      "  6.01131768e-05  0.00000000e+00 -3.13898661e-09  8.74839363e-06\n",
      "  0.00000000e+00 -0.00000000e+00 -1.94311173e-03]\n"
     ]
    }
   ],
   "source": [
    "print(modelfit.coef_)   #Printing coefficients"
   ]
  },
  {
   "cell_type": "code",
   "execution_count": 81,
   "metadata": {},
   "outputs": [
    {
     "name": "stdout",
     "output_type": "stream",
     "text": [
      "[0.0036587]\n"
     ]
    }
   ],
   "source": [
    "print(modelfit.intercept_)  #Printing the intercept"
   ]
  },
  {
   "cell_type": "code",
   "execution_count": 82,
   "metadata": {},
   "outputs": [
    {
     "name": "stdout",
     "output_type": "stream",
     "text": [
      "R^2:0.010, MSE:0.00, RMSE:0.01\n"
     ]
    }
   ],
   "source": [
    "pred = modelfit.predict(X_test)\n",
    "score = modelfit.score(X_test, y_test)\n",
    "mse = mean_squared_error(y_test, pred)\n",
    "print(\"R^2:{0:.3f}, MSE:{1:.2f}, RMSE:{2:.2f}\"\n",
    "      .format(score, mse, np.sqrt(mse)))\n",
    "#prediting outcomes using the x-test data and returing the mean squares error, regression score and r-squared value"
   ]
  },
  {
   "cell_type": "code",
   "execution_count": 83,
   "metadata": {},
   "outputs": [
    {
     "data": {
      "text/plain": [
       "[<matplotlib.lines.Line2D at 0x192ea9b1e20>]"
      ]
     },
     "execution_count": 83,
     "metadata": {},
     "output_type": "execute_result"
    },
    {
     "data": {
      "image/png": "[encoded data removed]",
      "text/plain": [
       "<Figure size 432x288 with 1 Axes>"
      ]
     },
     "metadata": {
      "needs_background": "light"
     },
     "output_type": "display_data"
    }
   ],
   "source": [
    "plt.plot(pred)"
   ]
  },
  {
   "cell_type": "code",
   "execution_count": 84,
   "metadata": {},
   "outputs": [
    {
     "data": {
      "image/png": "[encoded data removed]",
      "text/plain": [
       "<Figure size 432x288 with 1 Axes>"
      ]
     },
     "metadata": {
      "needs_background": "light"
     },
     "output_type": "display_data"
    }
   ],
   "source": [
    "xrange = range(len(X_test))\n",
    "\n",
    "plt.plot(xrange, y_test,  color=\"blue\", label=\"original\")\n",
    "plt.plot(xrange, pred, color=\"red\", label=\"predicted\")\n",
    "plt.legend()\n",
    "plt.show()\n",
    "#Printing forecast model with original "
   ]
  },
  {
   "cell_type": "markdown",
   "metadata": {},
   "source": [
    "The financial series chosen for analysis is the real median household income for the United States, this has been chosen to identify potential factors that may have affected this over time. All data is sourced annually from 1884 to 2019. Household income is likely to be driven by population, GDP for the US, government debt, unemployment rates, inflation and the volume of loans that are granted commercially. All of these variables have been found along with other correlated time series such as exports in the US, price of silver and the S&P 500 returns which gives an overall insight into the state of the economy over time and how it drives household income.  \n",
    "Plotting the income time series shows its overall increase over time with the largest decline occurring around 1992 and 2008. This is potentially because of the British Pound collapse in 1992 and the global recession of 2008 reducing overall household income due to repercussions such as high unemployment, increased debt and lower GDP.\n",
    "The forecast returns a good prediction for the median household income data with a mean squared error of 0. This means that the model is still overfitting the data so would potentially need to be rerun with more data for each time series. This could be potentially obtained by utilising monthly data rather than annual data.\n"
   ]
  },
  {
   "cell_type": "code",
   "execution_count": null,
   "metadata": {},
   "outputs": [],
   "source": []
  },
  {
   "cell_type": "code",
   "execution_count": null,
   "metadata": {},
   "outputs": [],
   "source": []
  }
 ],
 "metadata": {
  "kernelspec": {
   "display_name": "Python 3",
   "language": "python",
   "name": "python3"
  },
  "language_info": {
   "codemirror_mode": {
    "name": "ipython",
    "version": 3
   },
   "file_extension": ".py",
   "mimetype": "text/x-python",
   "name": "python",
   "nbconvert_exporter": "python",
   "pygments_lexer": "ipython3",
   "version": "3.8.3"
  }
 },
 "nbformat": 4,
 "nbformat_minor": 4
}
